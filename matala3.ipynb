{
 "cells": [
  {
   "cell_type": "code",
   "execution_count": 59,
   "id": "0de024ae-b0e5-47c0-9dce-27536aeb57cf",
   "metadata": {},
   "outputs": [],
   "source": [
    "import pandas as pd\n",
    "import numpy as np\n",
    "import re\n",
    "from datetime import timedelta\n",
    "import seaborn as sns\n",
    "import json\n",
    "import requests"
   ]
  },
  {
   "cell_type": "code",
   "execution_count": 60,
   "id": "9cfe2ef8-b1ac-49c9-ac43-c500184f5d7d",
   "metadata": {},
   "outputs": [],
   "source": [
    "path = \"C:\\\\Users\\\\97254\\\\Desktop\\\\phyton\\\\exc2\\\\matala3\\\\\"\n",
    "filename = \"dests.txt\"\n",
    "datafile =  path + filename\n",
    "data = pd.read_csv(datafile, header=None)\n",
    "cities = []\n",
    "for i in data[0] :\n",
    "    cities.append(i)"
   ]
  },
  {
   "cell_type": "code",
   "execution_count": 61,
   "id": "9ff72ab7-847e-4cbf-aa6a-1b0d8081de89",
   "metadata": {},
   "outputs": [],
   "source": [
    "address=\"Ariel University, Ariel, Israel\"\n",
    "api_key = 'AIzaSy____1SQXUOA'"
   ]
  },
  {
   "cell_type": "code",
   "execution_count": 62,
   "id": "1d548ba7-a20e-4bfa-8a44-78e70d124af5",
   "metadata": {},
   "outputs": [],
   "source": [
    "def get_lat_lng(address_string):\n",
    "    import requests\n",
    "    #python code goes here\n",
    "    url=\"https://maps.googleapis.com/maps/api/geocode/json?address=%s&key=%s\" % (address_string,api_key)\n",
    "    response = requests.get(url)\n",
    "    response_data = response.json()\n",
    "    return  response_data\n",
    "#get_lat_lng(address)\n"
   ]
  },
  {
   "cell_type": "code",
   "execution_count": 63,
   "id": "667f18a1-b2d3-4696-8d1f-40ab39ee48da",
   "metadata": {},
   "outputs": [],
   "source": [
    "def get_distance_duration(destination):\n",
    "    url = 'https://maps.googleapis.com/maps/api/distancematrix/json'\n",
    "    params = {\n",
    "        'origins': 'Tel Aviv, Israel',\n",
    "        'destinations': destination,\n",
    "        'key': api_key\n",
    "    }\n",
    "    response = requests.get(url, params=params)\n",
    "    data = response.json()\n",
    "    distance_km = data['rows'][0]['elements'][0]['distance']['value'] / 1000\n",
    "    duration_min = data['rows'][0]['elements'][0]['duration']['value'] / 60\n",
    "    return {'distance_km': distance_km, 'duration_min': duration_min}"
   ]
  },
  {
   "cell_type": "code",
   "execution_count": 64,
   "id": "750f1a5a-7569-444e-aaa1-ccbd2949fc7e",
   "metadata": {},
   "outputs": [],
   "source": [
    "# Define a function to retrieve longitude and latitude from Google Geocoding API\n",
    "def get_location(destination):\n",
    "    url = 'https://maps.googleapis.com/maps/api/geocode/json'\n",
    "    params = {\n",
    "        'address': destination,\n",
    "        'key': api_key\n",
    "    }\n",
    "    response = requests.get(url, params=params)\n",
    "    data = response.json()\n",
    "    location = data['results'][0]['geometry']['location']\n",
    "    return {'longitude': location['lng'], 'latitude': location['lat']}"
   ]
  },
  {
   "cell_type": "code",
   "execution_count": 65,
   "id": "01784037-6088-457e-ab43-6ca49a74054c",
   "metadata": {},
   "outputs": [],
   "source": [
    "results = []\n",
    "for destination in cities:\n",
    "    distance_duration = get_distance_duration(destination)\n",
    "    location = get_location(destination)\n",
    "    result = {'target': destination}\n",
    "    result.update(distance_duration)\n",
    "    result.update(location)\n",
    "    results.append(result)\n",
    "\n",
    "# Create a dataframe from the results\n",
    "df = pd.DataFrame(results, columns=['target', 'distance_km', 'duration_min', 'longitude', 'latitude'])"
   ]
  },
  {
   "cell_type": "code",
   "execution_count": null,
   "id": "5a5b3597-d61e-4c14-95a9-063da2b7c1cd",
   "metadata": {},
   "outputs": [],
   "source": []
  },
  {
   "cell_type": "code",
   "execution_count": 66,
   "id": "c931c6ea-cd6b-4564-aa4f-831bddec2eda",
   "metadata": {},
   "outputs": [
    {
     "data": {
      "text/html": [
       "<div>\n",
       "<style scoped>\n",
       "    .dataframe tbody tr th:only-of-type {\n",
       "        vertical-align: middle;\n",
       "    }\n",
       "\n",
       "    .dataframe tbody tr th {\n",
       "        vertical-align: top;\n",
       "    }\n",
       "\n",
       "    .dataframe thead th {\n",
       "        text-align: right;\n",
       "    }\n",
       "</style>\n",
       "<table border=\"1\" class=\"dataframe\">\n",
       "  <thead>\n",
       "    <tr style=\"text-align: right;\">\n",
       "      <th></th>\n",
       "      <th>target</th>\n",
       "      <th>distance_km</th>\n",
       "      <th>duration</th>\n",
       "      <th>longitude</th>\n",
       "      <th>latitude</th>\n",
       "    </tr>\n",
       "  </thead>\n",
       "  <tbody>\n",
       "    <tr>\n",
       "      <th>0</th>\n",
       "      <td>Istanbul</td>\n",
       "      <td>1815.227</td>\n",
       "      <td>21h 2m</td>\n",
       "      <td>28.978359</td>\n",
       "      <td>41.008238</td>\n",
       "    </tr>\n",
       "    <tr>\n",
       "      <th>1</th>\n",
       "      <td>Amsterdam</td>\n",
       "      <td>4527.132</td>\n",
       "      <td>48h 16m</td>\n",
       "      <td>4.904139</td>\n",
       "      <td>52.367573</td>\n",
       "    </tr>\n",
       "    <tr>\n",
       "      <th>2</th>\n",
       "      <td>Valletta</td>\n",
       "      <td>3792.883</td>\n",
       "      <td>50h 50m</td>\n",
       "      <td>14.514100</td>\n",
       "      <td>35.899237</td>\n",
       "    </tr>\n",
       "    <tr>\n",
       "      <th>3</th>\n",
       "      <td>Basel</td>\n",
       "      <td>4092.805</td>\n",
       "      <td>44h 2m</td>\n",
       "      <td>7.588576</td>\n",
       "      <td>47.559599</td>\n",
       "    </tr>\n",
       "    <tr>\n",
       "      <th>4</th>\n",
       "      <td>Doha</td>\n",
       "      <td>2164.477</td>\n",
       "      <td>22h 38m</td>\n",
       "      <td>51.531040</td>\n",
       "      <td>25.285447</td>\n",
       "    </tr>\n",
       "  </tbody>\n",
       "</table>\n",
       "</div>"
      ],
      "text/plain": [
       "      target  distance_km duration  longitude   latitude\n",
       "0   Istanbul     1815.227   21h 2m  28.978359  41.008238\n",
       "1  Amsterdam     4527.132  48h 16m   4.904139  52.367573\n",
       "2   Valletta     3792.883  50h 50m  14.514100  35.899237\n",
       "3      Basel     4092.805   44h 2m   7.588576  47.559599\n",
       "4       Doha     2164.477  22h 38m  51.531040  25.285447"
      ]
     },
     "execution_count": 66,
     "metadata": {},
     "output_type": "execute_result"
    }
   ],
   "source": [
    "df['duration'] = df['duration_min'].apply(lambda x: f\"{int(x) // 60}h {int(x) % 60}m\")\n",
    "df = df.drop(columns=['duration_min'])\n",
    "df= df[['target','distance_km','duration','longitude','latitude']]\n",
    "df"
   ]
  },
  {
   "cell_type": "code",
   "execution_count": 67,
   "id": "bf5be113-534d-4cb2-8da6-3fc880baee69",
   "metadata": {},
   "outputs": [],
   "source": [
    "#farthest_cities = df.sort_values(by='distance_km', ascending=False).head(3)['target']\n",
    "#print(farthest_cities.to_string())"
   ]
  },
  {
   "cell_type": "code",
   "execution_count": 68,
   "id": "595804bb-5df6-4d8c-913a-9dfb9e93064d",
   "metadata": {},
   "outputs": [
    {
     "name": "stdout",
     "output_type": "stream",
     "text": [
      "The 3 cities furthest from Tel Aviv are:\n",
      "1    Amsterdam\n",
      "3        Basel\n",
      "2     Valletta\n"
     ]
    }
   ],
   "source": [
    "farthest_cities = df.nlargest(3, 'distance_km')['target']\n",
    "print('The 3 cities furthest from Tel Aviv are:')\n",
    "print(farthest_cities.to_string())"
   ]
  },
  {
   "cell_type": "code",
   "execution_count": null,
   "id": "db7d6e87-798f-4c43-b199-d1bb360f1141",
   "metadata": {},
   "outputs": [],
   "source": []
  }
 ],
 "metadata": {
  "kernelspec": {
   "display_name": "Python 3 (ipykernel)",
   "language": "python",
   "name": "python3"
  },
  "language_info": {
   "codemirror_mode": {
    "name": "ipython",
    "version": 3
   },
   "file_extension": ".py",
   "mimetype": "text/x-python",
   "name": "python",
   "nbconvert_exporter": "python",
   "pygments_lexer": "ipython3",
   "version": "3.9.6"
  }
 },
 "nbformat": 4,
 "nbformat_minor": 5
}
